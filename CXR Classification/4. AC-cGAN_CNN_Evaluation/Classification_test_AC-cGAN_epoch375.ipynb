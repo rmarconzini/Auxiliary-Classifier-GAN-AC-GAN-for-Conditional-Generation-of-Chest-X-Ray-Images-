{
 "cells": [
  {
   "cell_type": "markdown",
   "metadata": {},
   "source": [
    "# Preliminary operation and Import Packages"
   ]
  },
  {
   "cell_type": "markdown",
   "metadata": {},
   "source": [
    "2.9 version of TensorFlow/Keras, because some data augmentation techniques are particularly slow"
   ]
  },
  {
   "cell_type": "code",
   "execution_count": 1,
   "metadata": {},
   "outputs": [
    {
     "name": "stdout",
     "output_type": "stream",
     "text": [
      "Thu Feb  9 19:26:14 2023       \n",
      "+-----------------------------------------------------------------------------+\n",
      "| NVIDIA-SMI 528.24       Driver Version: 528.24       CUDA Version: 12.0     |\n",
      "|-------------------------------+----------------------+----------------------+\n",
      "| GPU  Name            TCC/WDDM | Bus-Id        Disp.A | Volatile Uncorr. ECC |\n",
      "| Fan  Temp  Perf  Pwr:Usage/Cap|         Memory-Usage | GPU-Util  Compute M. |\n",
      "|                               |                      |               MIG M. |\n",
      "|===============================+======================+======================|\n",
      "|   0  NVIDIA GeForce ... WDDM  | 00000000:01:00.0 Off |                  N/A |\n",
      "| N/A   58C    P8    N/A /  N/A |   1803MiB /  2048MiB |      0%      Default |\n",
      "|                               |                      |                  N/A |\n",
      "+-------------------------------+----------------------+----------------------+\n",
      "                                                                               \n",
      "+-----------------------------------------------------------------------------+\n",
      "| Processes:                                                                  |\n",
      "|  GPU   GI   CI        PID   Type   Process name                  GPU Memory |\n",
      "|        ID   ID                                                   Usage      |\n",
      "|=============================================================================|\n",
      "|    0   N/A  N/A      7028      C   ...conda3\\envs\\tf\\python.exe    N/A      |\n",
      "|    0   N/A  N/A     10328    C+G   ...ser\\Application\\brave.exe    N/A      |\n",
      "+-----------------------------------------------------------------------------+\n"
     ]
    }
   ],
   "source": [
    "!nvidia-smi"
   ]
  },
  {
   "cell_type": "code",
   "execution_count": 2,
   "metadata": {},
   "outputs": [
    {
     "name": "stdout",
     "output_type": "stream",
     "text": [
      "nvcc: NVIDIA (R) Cuda compiler driver\n",
      "Copyright (c) 2005-2022 NVIDIA Corporation\n",
      "Built on Wed_Sep_21_10:41:10_Pacific_Daylight_Time_2022\n",
      "Cuda compilation tools, release 11.8, V11.8.89\n",
      "Build cuda_11.8.r11.8/compiler.31833905_0\n"
     ]
    }
   ],
   "source": [
    "!nvcc -V"
   ]
  },
  {
   "cell_type": "code",
   "execution_count": 1,
   "metadata": {},
   "outputs": [
    {
     "name": "stdout",
     "output_type": "stream",
     "text": [
      "[name: \"/device:CPU:0\"\n",
      "device_type: \"CPU\"\n",
      "memory_limit: 268435456\n",
      "locality {\n",
      "}\n",
      "incarnation: 4807415717710748576\n",
      "xla_global_id: -1\n",
      ", name: \"/device:GPU:0\"\n",
      "device_type: \"GPU\"\n",
      "memory_limit: 5736759296\n",
      "locality {\n",
      "  bus_id: 1\n",
      "  links {\n",
      "  }\n",
      "}\n",
      "incarnation: 18293803298721650080\n",
      "physical_device_desc: \"device: 0, name: NVIDIA GeForce RTX 3070 Laptop GPU, pci bus id: 0000:01:00.0, compute capability: 8.6\"\n",
      "xla_global_id: 416903419\n",
      "]\n"
     ]
    }
   ],
   "source": [
    "from tensorflow.python.client import device_lib\n",
    "print(device_lib.list_local_devices())"
   ]
  },
  {
   "cell_type": "code",
   "execution_count": 2,
   "metadata": {},
   "outputs": [],
   "source": [
    "# Keras e TF\n",
    "\n",
    "import tensorflow as tf \n",
    "from tensorflow import keras\n",
    "from keras.preprocessing.image import ImageDataGenerator\n",
    "from keras.layers import Conv2D, Conv1D, MaxPooling2D, Dense, Flatten, BatchNormalization, Activation, AveragePooling2D, Input, Flatten, Dropout\n",
    "from keras.callbacks import ModelCheckpoint\n",
    "\n",
    "# Sk-Learn\n",
    "from sklearn.metrics import classification_report, confusion_matrix\n",
    "from sklearn.model_selection import train_test_split\n",
    "from sklearn.metrics import classification_report,confusion_matrix, ConfusionMatrixDisplay, roc_curve, roc_auc_score, RocCurveDisplay, accuracy_score, classification_report, confusion_matrix\n",
    "from sklearn.utils import resample\n",
    "from sklearn.utils import shuffle\n",
    "\n",
    "# Base\n",
    "import os \n",
    "from matplotlib import pyplot as plt\n",
    "import seaborn as sns # \n",
    "import numpy as np #\n",
    "import pandas as pd # \n",
    "\n",
    "import pydot\n",
    "import pydotplus\n",
    "from pydotplus import graphviz"
   ]
  },
  {
   "cell_type": "code",
   "execution_count": 3,
   "metadata": {},
   "outputs": [
    {
     "name": "stdout",
     "output_type": "stream",
     "text": [
      "d:\\Projects\\chest-xrays-classification-generation\\2. Image Classification Notebook\\4. AC-cGAN_CNN_Evaluation\n",
      "d:\\Projects\\chest-xrays-classification-generation\n"
     ]
    }
   ],
   "source": [
    "print(os.getcwd())\n",
    "os.chdir(\"../..\")\n",
    "print(os.getcwd())"
   ]
  },
  {
   "cell_type": "markdown",
   "metadata": {},
   "source": [
    "# Image generator"
   ]
  },
  {
   "cell_type": "code",
   "execution_count": 2,
   "metadata": {},
   "outputs": [
    {
     "data": {
      "text/plain": [
       "'d:\\\\Projects\\\\chest-xrays-classification-generation\\\\2. Image Classification Notebook\\\\4. AC-cGAN_CNN_Evaluation'"
      ]
     },
     "execution_count": 2,
     "metadata": {},
     "output_type": "execute_result"
    }
   ],
   "source": [
    "img_size = 112\n",
    "train_path = os.path.join(f'./Data/COVIDx-splitted-resized-{img_size}/train')\n",
    "validation_path = os.path.join(f'./Data/COVIDx-splitted-resized-{img_size}/train')\n",
    "test_path = os.path.join(f'./Data/COVIDx-splitted-resized-{img_size}/test')"
   ]
  },
  {
   "cell_type": "code",
   "execution_count": 10,
   "metadata": {},
   "outputs": [],
   "source": [
    "batch_size = 128 \n",
    "epoch = 375\n",
    "\n",
    "train_path = f'./AC-cGAN/generated_images/epoch_{epoch}'\n",
    "validation_path = './Data/COVIDx-splitted-resized-112/train'\n",
    "test_path = './Data/COVIDx-splitted-resized-112/test'\n",
    "\n",
    "train_datagen = ImageDataGenerator(rescale=1./255., validation_split=0.15)\n",
    "test_datagen = ImageDataGenerator(rescale=1./255.)"
   ]
  },
  {
   "cell_type": "code",
   "execution_count": 11,
   "metadata": {},
   "outputs": [
    {
     "name": "stdout",
     "output_type": "stream",
     "text": [
      "Found 20892 images belonging to 3 classes.\n"
     ]
    }
   ],
   "source": [
    "train_data = train_datagen.flow_from_directory(\n",
    "        train_path,  \n",
    "        target_size=(112, 112),  # Lo inserisco per precauzione\n",
    "        batch_size=batch_size,\n",
    "        seed=123,\n",
    "        shuffle=True,\n",
    "        subset='training',\n",
    "        class_mode='categorical')"
   ]
  },
  {
   "cell_type": "code",
   "execution_count": 12,
   "metadata": {},
   "outputs": [
    {
     "name": "stdout",
     "output_type": "stream",
     "text": [
      "Found 4409 images belonging to 3 classes.\n"
     ]
    }
   ],
   "source": [
    "validation_data = train_datagen.flow_from_directory(\n",
    "        validation_path,  \n",
    "        target_size=(112, 112),  # Lo inserisco per precauzione\n",
    "        batch_size=batch_size,\n",
    "        seed=123,\n",
    "        shuffle=True,\n",
    "        subset='validation',\n",
    "        class_mode='categorical')"
   ]
  },
  {
   "cell_type": "code",
   "execution_count": 13,
   "metadata": {},
   "outputs": [
    {
     "name": "stdout",
     "output_type": "stream",
     "text": [
      "Found 400 images belonging to 3 classes.\n"
     ]
    }
   ],
   "source": [
    "# Test set\n",
    "test_data = test_datagen.flow_from_directory(\n",
    "        test_path,  \n",
    "        target_size=(112, 112),  # Lo inserisco per precauzione\n",
    "        batch_size=batch_size,\n",
    "        shuffle=False,\n",
    "        class_mode='categorical')"
   ]
  },
  {
   "cell_type": "markdown",
   "metadata": {},
   "source": [
    "# Architecture Definition"
   ]
  },
  {
   "cell_type": "code",
   "execution_count": 14,
   "metadata": {},
   "outputs": [],
   "source": [
    "early_stopper = tf.keras.callbacks.EarlyStopping(monitor='val_loss', patience=100)"
   ]
  },
  {
   "cell_type": "code",
   "execution_count": 15,
   "metadata": {},
   "outputs": [],
   "source": [
    "version = \"v1\"\n",
    "img_size = '112'\n",
    "\n",
    "checkpoint_filepath = f'./AC-cGAN/CNN_models/dcnn_model_{img_size}_{epoch}_{version}_val_acc_best.hdf5'\n",
    "model_checkpoint_callback = tf.keras.callbacks.ModelCheckpoint(\n",
    "    filepath=checkpoint_filepath,\n",
    "    monitor='val_accuracy',\n",
    "    mode='max',\n",
    "    save_best_only=True)"
   ]
  },
  {
   "cell_type": "code",
   "execution_count": 16,
   "metadata": {},
   "outputs": [],
   "source": [
    "num_classes = 3\n",
    "inputs = keras.Input((112,112,3))\n",
    "\n",
    "x = inputs\n",
    "\n",
    "x = keras.layers.Conv2D(16, 3, padding =\"same\", strides=1)(x)\n",
    "x = keras.layers.Activation('relu')(x)\n",
    "x = keras.layers.BatchNormalization()(x)\n",
    "\n",
    "x = keras.layers.Conv2D(32, 3,  padding =\"same\", strides=1)(x)\n",
    "x = keras.layers.Activation('relu')(x)\n",
    "x = keras.layers.MaxPooling2D(pool_size=(3,3), strides=(3,3))(x)\n",
    "x = keras.layers.Dropout(0.2)(x)\n",
    "\n",
    "x = keras.layers.Conv2D(64, 3,  padding =\"same\", strides=1)(x)\n",
    "x = keras.layers.Activation('relu')(x)\n",
    "x = keras.layers.BatchNormalization()(x)\n",
    "\n",
    "x = keras.layers.Conv2D(128, 2,  padding =\"same\", strides=1)(x)\n",
    "x = keras.layers.Activation('relu')(x)\n",
    "\n",
    "x = keras.layers.MaxPooling2D(pool_size=(2,2), strides=(3,3))(x)\n",
    "\n",
    "x = keras.layers.Dropout(0.2)(x)\n",
    "\n",
    "# x = keras.layers.GlobalMaxPool2D()(x)\n",
    "x = keras.layers.Flatten()(x)\n",
    "\n",
    "x = keras.layers.Dense(128, activation='relu')(x)\n",
    "x = keras.layers.Dropout(0.5)(x)\n",
    "\n",
    "# x = keras.layers.Dense(512, activation='relu')(x)\n",
    "# x = keras.layers.Dropout(0.5)(x)\n",
    "\n",
    "# x = keras.layers.Dense(1000, activation='relu')(x)\n",
    "# x = keras.layers.Dropout(0.5)(x)\n",
    "\n",
    "outputs = keras.layers.Dense(num_classes, activation='softmax')(x)\n",
    "net_dcnn_112_ACcgan = keras.Model(inputs, outputs)\n",
    "\n"
   ]
  },
  {
   "cell_type": "code",
   "execution_count": 17,
   "metadata": {},
   "outputs": [
    {
     "name": "stdout",
     "output_type": "stream",
     "text": [
      "Model: \"model\"\n",
      "_________________________________________________________________\n",
      " Layer (type)                Output Shape              Param #   \n",
      "=================================================================\n",
      " input_1 (InputLayer)        [(None, 112, 112, 3)]     0         \n",
      "                                                                 \n",
      " conv2d (Conv2D)             (None, 112, 112, 16)      448       \n",
      "                                                                 \n",
      " activation (Activation)     (None, 112, 112, 16)      0         \n",
      "                                                                 \n",
      " batch_normalization (BatchN  (None, 112, 112, 16)     64        \n",
      " ormalization)                                                   \n",
      "                                                                 \n",
      " conv2d_1 (Conv2D)           (None, 112, 112, 32)      4640      \n",
      "                                                                 \n",
      " activation_1 (Activation)   (None, 112, 112, 32)      0         \n",
      "                                                                 \n",
      " max_pooling2d (MaxPooling2D  (None, 37, 37, 32)       0         \n",
      " )                                                               \n",
      "                                                                 \n",
      " dropout (Dropout)           (None, 37, 37, 32)        0         \n",
      "                                                                 \n",
      " conv2d_2 (Conv2D)           (None, 37, 37, 64)        18496     \n",
      "                                                                 \n",
      " activation_2 (Activation)   (None, 37, 37, 64)        0         \n",
      "                                                                 \n",
      " batch_normalization_1 (Batc  (None, 37, 37, 64)       256       \n",
      " hNormalization)                                                 \n",
      "                                                                 \n",
      " conv2d_3 (Conv2D)           (None, 37, 37, 128)       32896     \n",
      "                                                                 \n",
      " activation_3 (Activation)   (None, 37, 37, 128)       0         \n",
      "                                                                 \n",
      " max_pooling2d_1 (MaxPooling  (None, 12, 12, 128)      0         \n",
      " 2D)                                                             \n",
      "                                                                 \n",
      " dropout_1 (Dropout)         (None, 12, 12, 128)       0         \n",
      "                                                                 \n",
      " flatten (Flatten)           (None, 18432)             0         \n",
      "                                                                 \n",
      " dense (Dense)               (None, 128)               2359424   \n",
      "                                                                 \n",
      " dropout_2 (Dropout)         (None, 128)               0         \n",
      "                                                                 \n",
      " dense_1 (Dense)             (None, 3)                 387       \n",
      "                                                                 \n",
      "=================================================================\n",
      "Total params: 2,416,611\n",
      "Trainable params: 2,416,451\n",
      "Non-trainable params: 160\n",
      "_________________________________________________________________\n"
     ]
    }
   ],
   "source": [
    "net_dcnn_112_ACcgan.summary()"
   ]
  },
  {
   "cell_type": "markdown",
   "metadata": {},
   "source": [
    "# Model fit"
   ]
  },
  {
   "cell_type": "code",
   "execution_count": 18,
   "metadata": {},
   "outputs": [],
   "source": [
    "METRICS = [ \n",
    "      keras.metrics.CategoricalAccuracy(name='accuracy'),\n",
    "      keras.metrics.Precision(name='precision'),\n",
    "      keras.metrics.Recall(name='recall'),\n",
    "      keras.metrics.AUC(name='auc'),\n",
    "      keras.metrics.TopKCategoricalAccuracy(name='top 2 accuracy', k=2),\n",
    "      keras.metrics.TopKCategoricalAccuracy(name='top 3 accuracy', k=3),\n",
    "      keras.metrics.TopKCategoricalAccuracy(name='top 5 accuracy', k=5),\n",
    "]\n",
    "OPTIMIZER = keras.optimizers.Adam(learning_rate=0.0001)"
   ]
  },
  {
   "cell_type": "code",
   "execution_count": 19,
   "metadata": {},
   "outputs": [
    {
     "name": "stdout",
     "output_type": "stream",
     "text": [
      "163\n",
      "34\n"
     ]
    }
   ],
   "source": [
    "# batch size \n",
    "step_per_epoch_train = len(train_data.labels) // batch_size\n",
    "print(step_per_epoch_train)\n",
    "step_per_epoch_val = len(validation_data.labels) // batch_size\n",
    "print(step_per_epoch_val)"
   ]
  },
  {
   "cell_type": "code",
   "execution_count": 20,
   "metadata": {},
   "outputs": [],
   "source": [
    "net_dcnn_112_ACcgan.compile(loss=keras.losses.categorical_crossentropy,\n",
    "            optimizer = OPTIMIZER,\n",
    "            metrics=METRICS)"
   ]
  },
  {
   "cell_type": "code",
   "execution_count": 21,
   "metadata": {},
   "outputs": [
    {
     "name": "stdout",
     "output_type": "stream",
     "text": [
      "Epoch 1/15\n",
      "163/163 [==============================] - 51s 269ms/step - loss: 0.1586 - accuracy: 0.9465 - precision: 0.9558 - recall: 0.9356 - auc: 0.9929 - top 2 accuracy: 0.9847 - top 3 accuracy: 1.0000 - top 5 accuracy: 1.0000 - val_loss: 0.9208 - val_accuracy: 0.6117 - val_precision: 0.8288 - val_recall: 0.2803 - val_auc: 0.7949 - val_top 2 accuracy: 0.8699 - val_top 3 accuracy: 1.0000 - val_top 5 accuracy: 1.0000\n",
      "Epoch 2/15\n",
      "163/163 [==============================] - 15s 89ms/step - loss: 0.0064 - accuracy: 0.9990 - precision: 0.9990 - recall: 0.9990 - auc: 1.0000 - top 2 accuracy: 1.0000 - top 3 accuracy: 1.0000 - top 5 accuracy: 1.0000 - val_loss: 0.9673 - val_accuracy: 0.5767 - val_precision: 0.5945 - val_recall: 0.5147 - val_auc: 0.7494 - val_top 2 accuracy: 0.8902 - val_top 3 accuracy: 1.0000 - val_top 5 accuracy: 1.0000\n",
      "Epoch 3/15\n",
      "163/163 [==============================] - 15s 89ms/step - loss: 0.0033 - accuracy: 0.9996 - precision: 0.9996 - recall: 0.9996 - auc: 1.0000 - top 2 accuracy: 1.0000 - top 3 accuracy: 1.0000 - top 5 accuracy: 1.0000 - val_loss: 1.6580 - val_accuracy: 0.5115 - val_precision: 0.5165 - val_recall: 0.4933 - val_auc: 0.6764 - val_top 2 accuracy: 0.8975 - val_top 3 accuracy: 1.0000 - val_top 5 accuracy: 1.0000\n",
      "Epoch 4/15\n",
      "163/163 [==============================] - 15s 89ms/step - loss: 0.0024 - accuracy: 0.9997 - precision: 0.9997 - recall: 0.9997 - auc: 1.0000 - top 2 accuracy: 1.0000 - top 3 accuracy: 1.0000 - top 5 accuracy: 1.0000 - val_loss: 1.7451 - val_accuracy: 0.5710 - val_precision: 0.5741 - val_recall: 0.5636 - val_auc: 0.7341 - val_top 2 accuracy: 0.9111 - val_top 3 accuracy: 1.0000 - val_top 5 accuracy: 1.0000\n",
      "Epoch 5/15\n",
      "163/163 [==============================] - 15s 89ms/step - loss: 8.7394e-04 - accuracy: 1.0000 - precision: 1.0000 - recall: 1.0000 - auc: 1.0000 - top 2 accuracy: 1.0000 - top 3 accuracy: 1.0000 - top 5 accuracy: 1.0000 - val_loss: 2.1271 - val_accuracy: 0.5669 - val_precision: 0.5688 - val_recall: 0.5616 - val_auc: 0.7227 - val_top 2 accuracy: 0.9072 - val_top 3 accuracy: 1.0000 - val_top 5 accuracy: 1.0000\n",
      "Epoch 6/15\n",
      "163/163 [==============================] - 15s 90ms/step - loss: 0.0012 - accuracy: 0.9998 - precision: 0.9998 - recall: 0.9998 - auc: 1.0000 - top 2 accuracy: 1.0000 - top 3 accuracy: 1.0000 - top 5 accuracy: 1.0000 - val_loss: 2.3585 - val_accuracy: 0.5276 - val_precision: 0.5293 - val_recall: 0.5250 - val_auc: 0.6950 - val_top 2 accuracy: 0.9026 - val_top 3 accuracy: 1.0000 - val_top 5 accuracy: 1.0000\n",
      "Epoch 7/15\n",
      "163/163 [==============================] - 15s 89ms/step - loss: 5.6477e-04 - accuracy: 1.0000 - precision: 1.0000 - recall: 1.0000 - auc: 1.0000 - top 2 accuracy: 1.0000 - top 3 accuracy: 1.0000 - top 5 accuracy: 1.0000 - val_loss: 2.3291 - val_accuracy: 0.5430 - val_precision: 0.5438 - val_recall: 0.5409 - val_auc: 0.7203 - val_top 2 accuracy: 0.9102 - val_top 3 accuracy: 1.0000 - val_top 5 accuracy: 1.0000\n",
      "Epoch 8/15\n",
      "163/163 [==============================] - 15s 89ms/step - loss: 4.1411e-04 - accuracy: 1.0000 - precision: 1.0000 - recall: 1.0000 - auc: 1.0000 - top 2 accuracy: 1.0000 - top 3 accuracy: 1.0000 - top 5 accuracy: 1.0000 - val_loss: 2.4537 - val_accuracy: 0.5623 - val_precision: 0.5652 - val_recall: 0.5614 - val_auc: 0.7196 - val_top 2 accuracy: 0.9088 - val_top 3 accuracy: 1.0000 - val_top 5 accuracy: 1.0000\n",
      "Epoch 9/15\n",
      "163/163 [==============================] - 15s 92ms/step - loss: 3.7019e-04 - accuracy: 1.0000 - precision: 1.0000 - recall: 1.0000 - auc: 1.0000 - top 2 accuracy: 1.0000 - top 3 accuracy: 1.0000 - top 5 accuracy: 1.0000 - val_loss: 2.4204 - val_accuracy: 0.5377 - val_precision: 0.5392 - val_recall: 0.5356 - val_auc: 0.7189 - val_top 2 accuracy: 0.9083 - val_top 3 accuracy: 1.0000 - val_top 5 accuracy: 1.0000\n",
      "Epoch 10/15\n",
      "163/163 [==============================] - 15s 89ms/step - loss: 4.4912e-04 - accuracy: 0.9999 - precision: 0.9999 - recall: 0.9999 - auc: 1.0000 - top 2 accuracy: 1.0000 - top 3 accuracy: 1.0000 - top 5 accuracy: 1.0000 - val_loss: 2.7583 - val_accuracy: 0.5113 - val_precision: 0.5120 - val_recall: 0.5085 - val_auc: 0.6939 - val_top 2 accuracy: 0.9049 - val_top 3 accuracy: 1.0000 - val_top 5 accuracy: 1.0000\n",
      "Epoch 11/15\n",
      "163/163 [==============================] - 15s 89ms/step - loss: 1.9700e-04 - accuracy: 1.0000 - precision: 1.0000 - recall: 1.0000 - auc: 1.0000 - top 2 accuracy: 1.0000 - top 3 accuracy: 1.0000 - top 5 accuracy: 1.0000 - val_loss: 2.7634 - val_accuracy: 0.5257 - val_precision: 0.5257 - val_recall: 0.5232 - val_auc: 0.7034 - val_top 2 accuracy: 0.9067 - val_top 3 accuracy: 1.0000 - val_top 5 accuracy: 1.0000\n",
      "Epoch 12/15\n",
      "163/163 [==============================] - 15s 90ms/step - loss: 2.2396e-04 - accuracy: 1.0000 - precision: 1.0000 - recall: 1.0000 - auc: 1.0000 - top 2 accuracy: 1.0000 - top 3 accuracy: 1.0000 - top 5 accuracy: 1.0000 - val_loss: 2.6152 - val_accuracy: 0.5494 - val_precision: 0.5494 - val_recall: 0.5466 - val_auc: 0.7216 - val_top 2 accuracy: 0.9104 - val_top 3 accuracy: 1.0000 - val_top 5 accuracy: 1.0000\n",
      "Epoch 13/15\n",
      "163/163 [==============================] - 15s 90ms/step - loss: 1.0429e-04 - accuracy: 1.0000 - precision: 1.0000 - recall: 1.0000 - auc: 1.0000 - top 2 accuracy: 1.0000 - top 3 accuracy: 1.0000 - top 5 accuracy: 1.0000 - val_loss: 2.6746 - val_accuracy: 0.5669 - val_precision: 0.5667 - val_recall: 0.5650 - val_auc: 0.7262 - val_top 2 accuracy: 0.9113 - val_top 3 accuracy: 1.0000 - val_top 5 accuracy: 1.0000\n",
      "Epoch 14/15\n",
      "163/163 [==============================] - 15s 91ms/step - loss: 1.0381e-04 - accuracy: 1.0000 - precision: 1.0000 - recall: 1.0000 - auc: 1.0000 - top 2 accuracy: 1.0000 - top 3 accuracy: 1.0000 - top 5 accuracy: 1.0000 - val_loss: 2.8929 - val_accuracy: 0.5368 - val_precision: 0.5369 - val_recall: 0.5338 - val_auc: 0.7090 - val_top 2 accuracy: 0.9099 - val_top 3 accuracy: 1.0000 - val_top 5 accuracy: 1.0000\n",
      "Epoch 15/15\n",
      "163/163 [==============================] - 16s 97ms/step - loss: 1.3544e-04 - accuracy: 1.0000 - precision: 1.0000 - recall: 1.0000 - auc: 1.0000 - top 2 accuracy: 1.0000 - top 3 accuracy: 1.0000 - top 5 accuracy: 1.0000 - val_loss: 3.0590 - val_accuracy: 0.5083 - val_precision: 0.5087 - val_recall: 0.5064 - val_auc: 0.6922 - val_top 2 accuracy: 0.9049 - val_top 3 accuracy: 1.0000 - val_top 5 accuracy: 1.0000\n"
     ]
    }
   ],
   "source": [
    "history_dcnn_ACcgan = net_dcnn_112_ACcgan.fit(train_data,\n",
    "          epochs=15,\n",
    "          steps_per_epoch=step_per_epoch_train,\n",
    "          validation_data=validation_data,\n",
    "          validation_steps=step_per_epoch_val,\n",
    "          workers = 3,\n",
    "          callbacks=[model_checkpoint_callback, early_stopper])"
   ]
  },
  {
   "cell_type": "code",
   "execution_count": 34,
   "metadata": {},
   "outputs": [],
   "source": [
    "np.save(f'./AC-cGAN/CNN_models/dcnn_history_{img_size}_{epoch}_{version}.npy',\n",
    "        history_dcnn_ACcgan.history)"
   ]
  },
  {
   "cell_type": "markdown",
   "metadata": {},
   "source": [
    "Visualization of the learning curves"
   ]
  },
  {
   "cell_type": "code",
   "execution_count": 23,
   "metadata": {},
   "outputs": [
    {
     "data": {
      "text/plain": [
       "<matplotlib.legend.Legend at 0x18ff7ef5220>"
      ]
     },
     "execution_count": 23,
     "metadata": {},
     "output_type": "execute_result"
    },
    {
     "data": {
      "image/png": "[encoded data removed]",
      "text/plain": [
       "<Figure size 640x480 with 2 Axes>"
      ]
     },
     "metadata": {},
     "output_type": "display_data"
    }
   ],
   "source": [
    "# Loss\n",
    "plt.subplot(1, 2, 1)\n",
    "plt.plot(history_dcnn_ACcgan.history['loss'])\n",
    "plt.plot(history_dcnn_ACcgan.history['val_loss'])\n",
    "plt.xlabel('Epoch')\n",
    "plt.ylabel('Loss')\n",
    "plt.legend(['train', 'validation'])\n",
    "\n",
    "# Accuracy\n",
    "plt.subplot(1, 2, 2)\n",
    "plt.plot(history_dcnn_ACcgan.history['accuracy'])\n",
    "plt.plot(history_dcnn_ACcgan.history['val_accuracy'])\n",
    "plt.xlabel('Epoch')\n",
    "plt.ylabel('Accuracy')\n",
    "plt.legend(['train', 'validation'])"
   ]
  },
  {
   "cell_type": "markdown",
   "metadata": {},
   "source": [
    "# Load Model"
   ]
  },
  {
   "cell_type": "code",
   "execution_count": 28,
   "metadata": {},
   "outputs": [],
   "source": [
    "#os.chdir('./AC-cGAN/CNN_models')"
   ]
  },
  {
   "cell_type": "code",
   "execution_count": 24,
   "metadata": {},
   "outputs": [],
   "source": [
    "# Load model\n",
    "net_dcnn_112_ACcgan = keras.models.load_model(f\"./AC-cGAN/CNN_models/dcnn_model_{img_size}_{epoch}_{version}_val_acc_best.hdf5\")"
   ]
  },
  {
   "cell_type": "code",
   "execution_count": 25,
   "metadata": {},
   "outputs": [],
   "source": [
    "# Load hystory and convert to dict\n",
    "history = np.load(f'./AC-cGAN/CNN_models/dcnn_history_{img_size}_{epoch}_{version}.npy', allow_pickle=True).item()"
   ]
  },
  {
   "cell_type": "markdown",
   "metadata": {},
   "source": [
    "# Model Evaluation"
   ]
  },
  {
   "cell_type": "code",
   "execution_count": 26,
   "metadata": {},
   "outputs": [],
   "source": [
    "# Set visualization size for figures \n",
    "plt.rcParams['figure.figsize'] = [5,5] # width, height"
   ]
  },
  {
   "cell_type": "code",
   "execution_count": 27,
   "metadata": {},
   "outputs": [],
   "source": [
    "CATEGORIES = \"COVID\", \"NORMAL\",\"PNEUMONIA\""
   ]
  },
  {
   "cell_type": "code",
   "execution_count": 28,
   "metadata": {},
   "outputs": [
    {
     "data": {
      "text/plain": [
       "dict_keys(['loss', 'accuracy', 'precision', 'recall', 'auc', 'top 2 accuracy', 'top 3 accuracy', 'top 5 accuracy', 'val_loss', 'val_accuracy', 'val_precision', 'val_recall', 'val_auc', 'val_top 2 accuracy', 'val_top 3 accuracy', 'val_top 5 accuracy'])"
      ]
     },
     "execution_count": 28,
     "metadata": {},
     "output_type": "execute_result"
    }
   ],
   "source": [
    "history.keys()"
   ]
  },
  {
   "cell_type": "code",
   "execution_count": 29,
   "metadata": {},
   "outputs": [],
   "source": [
    "%matplotlib inline\n",
    "\n",
    "def print_graph(item, index, history):\n",
    "    plt.figure()\n",
    "    train_values = history[item][0:index]\n",
    "    plt.plot(train_values)\n",
    "    test_values = history['val_' + item][0:index]\n",
    "    plt.plot(test_values)\n",
    "    plt.legend(['training','validation'])\n",
    "    plt.title('Training and validation '+ item)\n",
    "    plt.xlabel('epoch')\n",
    "    plt.show()\n",
    "    plot = '{}.png'.format(item)\n",
    "    plt.savefig(plot)"
   ]
  },
  {
   "cell_type": "code",
   "execution_count": 30,
   "metadata": {},
   "outputs": [],
   "source": [
    "def test_set_results(pred_value, n=1):    \n",
    "    y_test = test_data.labels\n",
    "    X_test, _ = test_data.next()\n",
    "    \n",
    "    corr_pred = confusion_matrix(y_test, pred_value)\n",
    "    fig=plt.figure(figsize=(10, 8))\n",
    "    ax = plt.axes()\n",
    "    \n",
    "    sns.heatmap(corr_pred,annot=True, fmt=\"d\",cmap=\"Purples\", xticklabels=CATEGORIES, yticklabels=CATEGORIES)\n",
    "    ax.set_title('Confusione Matrix')\n",
    "    plt.show()\n",
    "    \n",
    "    n_correct = int(corr_pred[0][0] + corr_pred[1][1] + corr_pred[2][2])\n",
    "    print('...'*15)\n",
    "\n",
    "    print('> Correct Predictions:', n_correct)\n",
    "    \n",
    "    n_wrongs = len(y_test) - n_correct\n",
    "    print('> Wrong Predictions:', n_wrongs)\n",
    "    print('...'*15)\n",
    "    \n",
    "    print(classification_report(test_data.labels, pred_value, target_names=CATEGORIES))"
   ]
  },
  {
   "cell_type": "code",
   "execution_count": 31,
   "metadata": {},
   "outputs": [],
   "source": [
    "def printResults(name, model):\n",
    "    predictions = model.predict(test_data, verbose=1)\n",
    "    preds = np.argmax(predictions, axis=1)\n",
    "    test_set_results(preds)"
   ]
  },
  {
   "cell_type": "code",
   "execution_count": 32,
   "metadata": {},
   "outputs": [],
   "source": [
    "def model_summary(model, history, name):\n",
    "    val_acc = history['val_accuracy'] #validation accuracy history\n",
    "    index= val_acc.index(max(val_acc))\n",
    "    print('Best Epochs:', index)\n",
    "\n",
    "\n",
    "    test_loss, test_accuracy, test_precision, test_recall, auc, _, _, _ = model.evaluate(test_data, verbose=1)\n",
    "\n",
    "    train_accuracy = history['accuracy'][index]\n",
    "    train_loss = history['loss'][index]\n",
    "\n",
    "    print_graph('loss', index, history)\n",
    "    print_graph('accuracy', index, history)\n",
    "\n",
    "    print('---'*15) \n",
    "    print(name)\n",
    "    print('> Accuracy on train:',round(train_accuracy, 2), \n",
    "            '\\tLoss on train:', round(train_loss,2))\n",
    "    \n",
    "\n",
    "    print('> Accuracy on test:',round(test_accuracy, 2),\n",
    "            '\\tLoss on test:',round(test_loss,2))\n",
    "\n",
    "    print('---'*15)\n",
    "    print('> predicting test')\n",
    "    print('---'*15)\n",
    "\n",
    "    printResults(name, model)"
   ]
  },
  {
   "cell_type": "code",
   "execution_count": 35,
   "metadata": {},
   "outputs": [
    {
     "name": "stdout",
     "output_type": "stream",
     "text": [
      "Best Epochs: 0\n",
      "4/4 [==============================] - 1s 44ms/step - loss: 0.9525 - accuracy: 0.5400 - precision: 0.7748 - recall: 0.2150 - auc: 0.7487 - top 2 accuracy: 0.8625 - top 3 accuracy: 1.0000 - top 5 accuracy: 1.0000\n"
     ]
    },
    {
     "data": {
      "image/png": "[encoded data removed]",
      "text/plain": [
       "<Figure size 500x500 with 1 Axes>"
      ]
     },
     "metadata": {},
     "output_type": "display_data"
    },
    {
     "data": {
      "text/plain": [
       "<Figure size 500x500 with 0 Axes>"
      ]
     },
     "metadata": {},
     "output_type": "display_data"
    },
    {
     "data": {
      "image/png": "[encoded data removed]",
      "text/plain": [
       "<Figure size 500x500 with 1 Axes>"
      ]
     },
     "metadata": {},
     "output_type": "display_data"
    },
    {
     "name": "stdout",
     "output_type": "stream",
     "text": [
      "---------------------------------------------\n",
      "DCCN - Test AC-cGAN\n",
      "> Accuracy on train: 0.95 \tLoss on train: 0.16\n",
      "> Accuracy on test: 0.54 \tLoss on test: 0.95\n",
      "---------------------------------------------\n",
      "> predicting test\n",
      "---------------------------------------------\n",
      "4/4 [==============================] - 0s 74ms/step\n"
     ]
    },
    {
     "data": {
      "text/plain": [
       "<Figure size 500x500 with 0 Axes>"
      ]
     },
     "metadata": {},
     "output_type": "display_data"
    },
    {
     "data": {
      "image/png": "[encoded data removed]",
      "text/plain": [
       "<Figure size 1000x800 with 2 Axes>"
      ]
     },
     "metadata": {},
     "output_type": "display_data"
    },
    {
     "name": "stdout",
     "output_type": "stream",
     "text": [
      ".............................................\n",
      "> Correct Predictions: 216\n",
      "> Wrong Predictions: 184\n",
      ".............................................\n",
      "              precision    recall  f1-score   support\n",
      "\n",
      "       COVID       0.54      0.89      0.67       200\n",
      "      NORMAL       0.43      0.18      0.25       100\n",
      "   PNEUMONIA       0.77      0.20      0.32       100\n",
      "\n",
      "    accuracy                           0.54       400\n",
      "   macro avg       0.58      0.42      0.41       400\n",
      "weighted avg       0.57      0.54      0.48       400\n",
      "\n"
     ]
    }
   ],
   "source": [
    "model_summary(net_dcnn_112_ACcgan, history, 'DCCN - Test AC-cGAN')"
   ]
  }
 ],
 "metadata": {
  "kernelspec": {
   "display_name": "tensorflow-gpu-3.8",
   "language": "python",
   "name": "python3"
  },
  "language_info": {
   "codemirror_mode": {
    "name": "ipython",
    "version": 3
   },
   "file_extension": ".py",
   "mimetype": "text/x-python",
   "name": "python",
   "nbconvert_exporter": "python",
   "pygments_lexer": "ipython3",
   "version": "3.8.16"
  },
  "orig_nbformat": 4,
  "vscode": {
   "interpreter": {
    "hash": "e58d6ebb9ee25355625054b7da37cd59d47f033b28e5e9daebb92584e39a5035"
   }
  }
 },
 "nbformat": 4,
 "nbformat_minor": 2
}

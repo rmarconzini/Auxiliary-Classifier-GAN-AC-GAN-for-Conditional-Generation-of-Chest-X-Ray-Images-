{
 "cells": [
  {
   "cell_type": "markdown",
   "metadata": {},
   "source": [
    "# Preliminary operation and Import Packages"
   ]
  },
  {
   "cell_type": "markdown",
   "metadata": {},
   "source": [
    "2.9 version of TensorFlow/Keras, because some data augmentation techniques are particularly slow"
   ]
  },
  {
   "cell_type": "code",
   "execution_count": 1,
   "metadata": {},
   "outputs": [
    {
     "name": "stdout",
     "output_type": "stream",
     "text": [
      "Thu Feb  9 21:47:33 2023       \n",
      "+-----------------------------------------------------------------------------+\n",
      "| NVIDIA-SMI 528.24       Driver Version: 528.24       CUDA Version: 12.0     |\n",
      "|-------------------------------+----------------------+----------------------+\n",
      "| GPU  Name            TCC/WDDM | Bus-Id        Disp.A | Volatile Uncorr. ECC |\n",
      "| Fan  Temp  Perf  Pwr:Usage/Cap|         Memory-Usage | GPU-Util  Compute M. |\n",
      "|                               |                      |               MIG M. |\n",
      "|===============================+======================+======================|\n",
      "|   0  NVIDIA GeForce ... WDDM  | 00000000:01:00.0 Off |                  N/A |\n",
      "| N/A   59C    P8    N/A /  N/A |   1815MiB /  2048MiB |      0%      Default |\n",
      "|                               |                      |                  N/A |\n",
      "+-------------------------------+----------------------+----------------------+\n",
      "                                                                               \n",
      "+-----------------------------------------------------------------------------+\n",
      "| Processes:                                                                  |\n",
      "|  GPU   GI   CI        PID   Type   Process name                  GPU Memory |\n",
      "|        ID   ID                                                   Usage      |\n",
      "|=============================================================================|\n",
      "|    0   N/A  N/A      7028      C   ...conda3\\envs\\tf\\python.exe    N/A      |\n",
      "|    0   N/A  N/A     10328    C+G   ...ser\\Application\\brave.exe    N/A      |\n",
      "+-----------------------------------------------------------------------------+\n"
     ]
    }
   ],
   "source": [
    "!nvidia-smi"
   ]
  },
  {
   "cell_type": "code",
   "execution_count": 2,
   "metadata": {},
   "outputs": [
    {
     "name": "stdout",
     "output_type": "stream",
     "text": [
      "nvcc: NVIDIA (R) Cuda compiler driver\n",
      "Copyright (c) 2005-2022 NVIDIA Corporation\n",
      "Built on Wed_Sep_21_10:41:10_Pacific_Daylight_Time_2022\n",
      "Cuda compilation tools, release 11.8, V11.8.89\n",
      "Build cuda_11.8.r11.8/compiler.31833905_0\n"
     ]
    }
   ],
   "source": [
    "!nvcc -V"
   ]
  },
  {
   "cell_type": "code",
   "execution_count": 3,
   "metadata": {},
   "outputs": [
    {
     "name": "stdout",
     "output_type": "stream",
     "text": [
      "[name: \"/device:CPU:0\"\n",
      "device_type: \"CPU\"\n",
      "memory_limit: 268435456\n",
      "locality {\n",
      "}\n",
      "incarnation: 4589952675255699334\n",
      "xla_global_id: -1\n",
      ", name: \"/device:GPU:0\"\n",
      "device_type: \"GPU\"\n",
      "memory_limit: 1219903070\n",
      "locality {\n",
      "  bus_id: 1\n",
      "  links {\n",
      "  }\n",
      "}\n",
      "incarnation: 3763696110559387440\n",
      "physical_device_desc: \"device: 0, name: NVIDIA GeForce MX450, pci bus id: 0000:01:00.0, compute capability: 7.5\"\n",
      "xla_global_id: 416903419\n",
      "]\n"
     ]
    }
   ],
   "source": [
    "from tensorflow.python.client import device_lib\n",
    "print(device_lib.list_local_devices())"
   ]
  },
  {
   "cell_type": "code",
   "execution_count": 2,
   "metadata": {},
   "outputs": [],
   "source": [
    "# Keras e TF\n",
    "\n",
    "import tensorflow as tf \n",
    "from tensorflow import keras\n",
    "from keras.preprocessing.image import ImageDataGenerator\n",
    "from keras.layers import Conv2D, Conv1D, MaxPooling2D, Dense, Flatten, BatchNormalization, Activation, AveragePooling2D, Input, Flatten, Dropout\n",
    "from keras.callbacks import ModelCheckpoint\n",
    "\n",
    "# Sk-Learn\n",
    "from sklearn.metrics import classification_report, confusion_matrix\n",
    "from sklearn.model_selection import train_test_split\n",
    "from sklearn.metrics import classification_report,confusion_matrix, ConfusionMatrixDisplay, roc_curve, roc_auc_score, RocCurveDisplay, accuracy_score, classification_report, confusion_matrix\n",
    "from sklearn.utils import resample\n",
    "from sklearn.utils import shuffle\n",
    "\n",
    "# Base\n",
    "import os \n",
    "from matplotlib import pyplot as plt\n",
    "import seaborn as sns # \n",
    "import numpy as np #\n",
    "import pandas as pd # \n",
    "\n",
    "import pydot\n",
    "import pydotplus\n",
    "from pydotplus import graphviz"
   ]
  },
  {
   "cell_type": "markdown",
   "metadata": {},
   "source": [
    "# Image generator"
   ]
  },
  {
   "cell_type": "code",
   "execution_count": 3,
   "metadata": {},
   "outputs": [],
   "source": [
    "batch_size = 32 \n",
    "epoch = 297\n",
    "train_path = f'C:/Users/marco/OneDrive/UNIMIB_DataScience/99-PROJECTS/DSIM_Project/chest-xrays-classification-generation/AC-cGAN/generated_images/epoch_{epoch}_classification'\n",
    "validation_path = 'C:/Users/marco/Desktop/Local_Documents/data/COVIDx-splitted-resized-112/train'\n",
    "test_path = 'C:/Users/marco/Desktop/Local_Documents/data/COVIDx-splitted-resized-112/test'\n",
    "\n",
    "train_datagen = ImageDataGenerator(rescale=1./255., validation_split=0.15)\n",
    "test_datagen = ImageDataGenerator(rescale=1./255.)"
   ]
  },
  {
   "cell_type": "code",
   "execution_count": 4,
   "metadata": {},
   "outputs": [
    {
     "name": "stdout",
     "output_type": "stream",
     "text": [
      "Found 20892 images belonging to 3 classes.\n"
     ]
    }
   ],
   "source": [
    "train_data = train_datagen.flow_from_directory(\n",
    "        train_path,  \n",
    "        target_size=(112, 112),  # Lo inserisco per precauzione\n",
    "        batch_size=batch_size,\n",
    "        seed=123,\n",
    "        shuffle=True,\n",
    "        subset='training',\n",
    "        class_mode='categorical')"
   ]
  },
  {
   "cell_type": "code",
   "execution_count": 5,
   "metadata": {},
   "outputs": [
    {
     "name": "stdout",
     "output_type": "stream",
     "text": [
      "Found 4409 images belonging to 3 classes.\n"
     ]
    }
   ],
   "source": [
    "validation_data = train_datagen.flow_from_directory(\n",
    "        validation_path,  \n",
    "        target_size=(112, 112),  # Lo inserisco per precauzione\n",
    "        batch_size=batch_size,\n",
    "        seed=123,\n",
    "        shuffle=True,\n",
    "        subset='validation',\n",
    "        class_mode='categorical')"
   ]
  },
  {
   "cell_type": "code",
   "execution_count": 6,
   "metadata": {},
   "outputs": [
    {
     "name": "stdout",
     "output_type": "stream",
     "text": [
      "Found 397 images belonging to 3 classes.\n"
     ]
    }
   ],
   "source": [
    "# Test set\n",
    "test_data = test_datagen.flow_from_directory(\n",
    "        test_path,  \n",
    "        target_size=(112, 112),  # Lo inserisco per precauzione\n",
    "        batch_size=batch_size,\n",
    "        shuffle=False,\n",
    "        class_mode='categorical')"
   ]
  },
  {
   "cell_type": "markdown",
   "metadata": {},
   "source": [
    "# Architecture Definition"
   ]
  },
  {
   "cell_type": "code",
   "execution_count": 7,
   "metadata": {},
   "outputs": [],
   "source": [
    "early_stopper = tf.keras.callbacks.EarlyStopping(monitor='val_loss', patience=100)"
   ]
  },
  {
   "cell_type": "code",
   "execution_count": 8,
   "metadata": {},
   "outputs": [],
   "source": [
    "version = \"v1\"\n",
    "img_size = '112'\n",
    "epoch = 297\n",
    "checkpoint_filepath = f'C:/Users/marco/Desktop/Local_Documents/models/AC-cGAN_classification/epochs_{epoch}/dcnn_model_{img_size}_{version}_val_acc_best.hdf5'\n",
    "model_checkpoint_callback = tf.keras.callbacks.ModelCheckpoint(\n",
    "    filepath=checkpoint_filepath,\n",
    "    monitor='val_accuracy',\n",
    "    mode='max',\n",
    "    save_best_only=True)"
   ]
  },
  {
   "cell_type": "code",
   "execution_count": 9,
   "metadata": {},
   "outputs": [],
   "source": [
    "num_classes = 3\n",
    "inputs = keras.Input((112,112,3))\n",
    "\n",
    "x = inputs\n",
    "\n",
    "x = keras.layers.Conv2D(16, 3, padding =\"same\", strides=1)(x)\n",
    "x = keras.layers.Activation('relu')(x)\n",
    "x = keras.layers.BatchNormalization()(x)\n",
    "\n",
    "x = keras.layers.Conv2D(32, 3,  padding =\"same\", strides=1)(x)\n",
    "x = keras.layers.Activation('relu')(x)\n",
    "x = keras.layers.MaxPooling2D(pool_size=(3,3), strides=(3,3))(x)\n",
    "x = keras.layers.Dropout(0.2)(x)\n",
    "\n",
    "x = keras.layers.Conv2D(64, 3,  padding =\"same\", strides=1)(x)\n",
    "x = keras.layers.Activation('relu')(x)\n",
    "x = keras.layers.BatchNormalization()(x)\n",
    "\n",
    "x = keras.layers.Conv2D(128, 2,  padding =\"same\", strides=1)(x)\n",
    "x = keras.layers.Activation('relu')(x)\n",
    "\n",
    "x = keras.layers.MaxPooling2D(pool_size=(2,2), strides=(3,3))(x)\n",
    "\n",
    "x = keras.layers.Dropout(0.2)(x)\n",
    "\n",
    "# x = keras.layers.GlobalMaxPool2D()(x)\n",
    "x = keras.layers.Flatten()(x)\n",
    "\n",
    "x = keras.layers.Dense(128, activation='relu')(x)\n",
    "x = keras.layers.Dropout(0.5)(x)\n",
    "\n",
    "# x = keras.layers.Dense(512, activation='relu')(x)\n",
    "# x = keras.layers.Dropout(0.5)(x)\n",
    "\n",
    "# x = keras.layers.Dense(1000, activation='relu')(x)\n",
    "# x = keras.layers.Dropout(0.5)(x)\n",
    "\n",
    "outputs = keras.layers.Dense(num_classes, activation='softmax')(x)\n",
    "net_dcnn_112_ACcgan = keras.Model(inputs, outputs)\n",
    "\n"
   ]
  },
  {
   "cell_type": "code",
   "execution_count": 10,
   "metadata": {},
   "outputs": [
    {
     "name": "stdout",
     "output_type": "stream",
     "text": [
      "Model: \"model\"\n",
      "_________________________________________________________________\n",
      " Layer (type)                Output Shape              Param #   \n",
      "=================================================================\n",
      " input_1 (InputLayer)        [(None, 112, 112, 3)]     0         \n",
      "                                                                 \n",
      " conv2d (Conv2D)             (None, 112, 112, 16)      448       \n",
      "                                                                 \n",
      " activation (Activation)     (None, 112, 112, 16)      0         \n",
      "                                                                 \n",
      " batch_normalization (BatchN  (None, 112, 112, 16)     64        \n",
      " ormalization)                                                   \n",
      "                                                                 \n",
      " conv2d_1 (Conv2D)           (None, 112, 112, 32)      4640      \n",
      "                                                                 \n",
      " activation_1 (Activation)   (None, 112, 112, 32)      0         \n",
      "                                                                 \n",
      " max_pooling2d (MaxPooling2D  (None, 37, 37, 32)       0         \n",
      " )                                                               \n",
      "                                                                 \n",
      " dropout (Dropout)           (None, 37, 37, 32)        0         \n",
      "                                                                 \n",
      " conv2d_2 (Conv2D)           (None, 37, 37, 64)        18496     \n",
      "                                                                 \n",
      " activation_2 (Activation)   (None, 37, 37, 64)        0         \n",
      "                                                                 \n",
      " batch_normalization_1 (Batc  (None, 37, 37, 64)       256       \n",
      " hNormalization)                                                 \n",
      "                                                                 \n",
      " conv2d_3 (Conv2D)           (None, 37, 37, 128)       32896     \n",
      "                                                                 \n",
      " activation_3 (Activation)   (None, 37, 37, 128)       0         \n",
      "                                                                 \n",
      " max_pooling2d_1 (MaxPooling  (None, 12, 12, 128)      0         \n",
      " 2D)                                                             \n",
      "                                                                 \n",
      " dropout_1 (Dropout)         (None, 12, 12, 128)       0         \n",
      "                                                                 \n",
      " flatten (Flatten)           (None, 18432)             0         \n",
      "                                                                 \n",
      " dense (Dense)               (None, 128)               2359424   \n",
      "                                                                 \n",
      " dropout_2 (Dropout)         (None, 128)               0         \n",
      "                                                                 \n",
      " dense_1 (Dense)             (None, 3)                 387       \n",
      "                                                                 \n",
      "=================================================================\n",
      "Total params: 2,416,611\n",
      "Trainable params: 2,416,451\n",
      "Non-trainable params: 160\n",
      "_________________________________________________________________\n"
     ]
    }
   ],
   "source": [
    "net_dcnn_112_ACcgan.summary()"
   ]
  },
  {
   "cell_type": "markdown",
   "metadata": {},
   "source": [
    "# Model fit"
   ]
  },
  {
   "cell_type": "code",
   "execution_count": 11,
   "metadata": {},
   "outputs": [],
   "source": [
    "METRICS = [ \n",
    "      keras.metrics.CategoricalAccuracy(name='accuracy'),\n",
    "      keras.metrics.Precision(name='precision'),\n",
    "      keras.metrics.Recall(name='recall'),\n",
    "      keras.metrics.AUC(name='auc'),\n",
    "      keras.metrics.TopKCategoricalAccuracy(name='top 2 accuracy', k=2),\n",
    "      keras.metrics.TopKCategoricalAccuracy(name='top 3 accuracy', k=3),\n",
    "      keras.metrics.TopKCategoricalAccuracy(name='top 5 accuracy', k=5),\n",
    "]\n",
    "OPTIMIZER = keras.optimizers.Adam(learning_rate=0.0001)"
   ]
  },
  {
   "cell_type": "code",
   "execution_count": 12,
   "metadata": {},
   "outputs": [
    {
     "name": "stdout",
     "output_type": "stream",
     "text": [
      "652\n",
      "137\n"
     ]
    }
   ],
   "source": [
    "# batch size \n",
    "step_per_epoch_train = len(train_data.labels) // batch_size\n",
    "print(step_per_epoch_train)\n",
    "step_per_epoch_val = len(validation_data.labels) // batch_size\n",
    "print(step_per_epoch_val)"
   ]
  },
  {
   "cell_type": "code",
   "execution_count": 13,
   "metadata": {},
   "outputs": [],
   "source": [
    "net_dcnn_112_ACcgan.compile(loss=keras.losses.categorical_crossentropy,\n",
    "            optimizer = OPTIMIZER,\n",
    "            metrics=METRICS)"
   ]
  },
  {
   "cell_type": "code",
   "execution_count": 14,
   "metadata": {},
   "outputs": [
    {
     "name": "stdout",
     "output_type": "stream",
     "text": [
      "Epoch 1/15\n",
      "652/652 [==============================] - 71s 98ms/step - loss: 0.0742 - accuracy: 0.9761 - precision: 0.9808 - recall: 0.9714 - auc: 0.9982 - top 2 accuracy: 0.9935 - top 3 accuracy: 1.0000 - top 5 accuracy: 1.0000 - val_loss: 1.4524 - val_accuracy: 0.6017 - val_precision: 0.6068 - val_recall: 0.5963 - val_auc: 0.7880 - val_top 2 accuracy: 0.9067 - val_top 3 accuracy: 1.0000 - val_top 5 accuracy: 1.0000\n",
      "Epoch 2/15\n",
      "652/652 [==============================] - 58s 89ms/step - loss: 0.0028 - accuracy: 0.9996 - precision: 0.9996 - recall: 0.9996 - auc: 1.0000 - top 2 accuracy: 1.0000 - top 3 accuracy: 1.0000 - top 5 accuracy: 1.0000 - val_loss: 2.1824 - val_accuracy: 0.5906 - val_precision: 0.5915 - val_recall: 0.5871 - val_auc: 0.7630 - val_top 2 accuracy: 0.8976 - val_top 3 accuracy: 1.0000 - val_top 5 accuracy: 1.0000\n",
      "Epoch 3/15\n",
      "652/652 [==============================] - 60s 91ms/step - loss: 0.0023 - accuracy: 0.9995 - precision: 0.9995 - recall: 0.9995 - auc: 1.0000 - top 2 accuracy: 1.0000 - top 3 accuracy: 1.0000 - top 5 accuracy: 1.0000 - val_loss: 1.7552 - val_accuracy: 0.6891 - val_precision: 0.6907 - val_recall: 0.6870 - val_auc: 0.8360 - val_top 2 accuracy: 0.9069 - val_top 3 accuracy: 1.0000 - val_top 5 accuracy: 1.0000\n",
      "Epoch 4/15\n",
      "652/652 [==============================] - 62s 95ms/step - loss: 0.0012 - accuracy: 0.9997 - precision: 0.9997 - recall: 0.9997 - auc: 1.0000 - top 2 accuracy: 1.0000 - top 3 accuracy: 1.0000 - top 5 accuracy: 1.0000 - val_loss: 1.7380 - val_accuracy: 0.7071 - val_precision: 0.7089 - val_recall: 0.7051 - val_auc: 0.8465 - val_top 2 accuracy: 0.9097 - val_top 3 accuracy: 1.0000 - val_top 5 accuracy: 1.0000\n",
      "Epoch 5/15\n",
      "652/652 [==============================] - 62s 94ms/step - loss: 7.4958e-04 - accuracy: 0.9998 - precision: 0.9998 - recall: 0.9998 - auc: 1.0000 - top 2 accuracy: 1.0000 - top 3 accuracy: 1.0000 - top 5 accuracy: 1.0000 - val_loss: 2.7926 - val_accuracy: 0.6099 - val_precision: 0.6115 - val_recall: 0.6090 - val_auc: 0.7674 - val_top 2 accuracy: 0.8964 - val_top 3 accuracy: 1.0000 - val_top 5 accuracy: 1.0000\n",
      "Epoch 6/15\n",
      "652/652 [==============================] - 61s 94ms/step - loss: 0.0016 - accuracy: 0.9994 - precision: 0.9994 - recall: 0.9994 - auc: 1.0000 - top 2 accuracy: 1.0000 - top 3 accuracy: 1.0000 - top 5 accuracy: 1.0000 - val_loss: 2.0523 - val_accuracy: 0.6918 - val_precision: 0.6937 - val_recall: 0.6907 - val_auc: 0.8336 - val_top 2 accuracy: 0.9081 - val_top 3 accuracy: 1.0000 - val_top 5 accuracy: 1.0000\n",
      "Epoch 7/15\n",
      "652/652 [==============================] - 61s 94ms/step - loss: 6.9295e-04 - accuracy: 0.9998 - precision: 0.9998 - recall: 0.9998 - auc: 1.0000 - top 2 accuracy: 1.0000 - top 3 accuracy: 1.0000 - top 5 accuracy: 1.0000 - val_loss: 4.0501 - val_accuracy: 0.5696 - val_precision: 0.5709 - val_recall: 0.5684 - val_auc: 0.7211 - val_top 2 accuracy: 0.8971 - val_top 3 accuracy: 1.0000 - val_top 5 accuracy: 1.0000\n",
      "Epoch 8/15\n",
      "652/652 [==============================] - 63s 96ms/step - loss: 0.0035 - accuracy: 0.9988 - precision: 0.9988 - recall: 0.9988 - auc: 1.0000 - top 2 accuracy: 0.9999 - top 3 accuracy: 1.0000 - top 5 accuracy: 1.0000 - val_loss: 3.4651 - val_accuracy: 0.6296 - val_precision: 0.6299 - val_recall: 0.6284 - val_auc: 0.7680 - val_top 2 accuracy: 0.8951 - val_top 3 accuracy: 1.0000 - val_top 5 accuracy: 1.0000\n",
      "Epoch 9/15\n",
      "652/652 [==============================] - 66s 101ms/step - loss: 9.2594e-04 - accuracy: 0.9999 - precision: 0.9999 - recall: 0.9999 - auc: 1.0000 - top 2 accuracy: 1.0000 - top 3 accuracy: 1.0000 - top 5 accuracy: 1.0000 - val_loss: 2.7886 - val_accuracy: 0.6937 - val_precision: 0.6940 - val_recall: 0.6927 - val_auc: 0.8171 - val_top 2 accuracy: 0.9197 - val_top 3 accuracy: 1.0000 - val_top 5 accuracy: 1.0000\n",
      "Epoch 10/15\n",
      "652/652 [==============================] - 63s 96ms/step - loss: 1.4598e-04 - accuracy: 1.0000 - precision: 1.0000 - recall: 1.0000 - auc: 1.0000 - top 2 accuracy: 1.0000 - top 3 accuracy: 1.0000 - top 5 accuracy: 1.0000 - val_loss: 3.4248 - val_accuracy: 0.6750 - val_precision: 0.6758 - val_recall: 0.6743 - val_auc: 0.7984 - val_top 2 accuracy: 0.9012 - val_top 3 accuracy: 1.0000 - val_top 5 accuracy: 1.0000\n",
      "Epoch 11/15\n",
      "652/652 [==============================] - 64s 98ms/step - loss: 1.2558e-04 - accuracy: 1.0000 - precision: 1.0000 - recall: 1.0000 - auc: 1.0000 - top 2 accuracy: 1.0000 - top 3 accuracy: 1.0000 - top 5 accuracy: 1.0000 - val_loss: 4.3000 - val_accuracy: 0.6229 - val_precision: 0.6232 - val_recall: 0.6220 - val_auc: 0.7535 - val_top 2 accuracy: 0.9049 - val_top 3 accuracy: 1.0000 - val_top 5 accuracy: 1.0000\n",
      "Epoch 12/15\n",
      "652/652 [==============================] - 65s 99ms/step - loss: 1.6539e-04 - accuracy: 0.9999 - precision: 0.9999 - recall: 0.9999 - auc: 1.0000 - top 2 accuracy: 1.0000 - top 3 accuracy: 1.0000 - top 5 accuracy: 1.0000 - val_loss: 2.4360 - val_accuracy: 0.7352 - val_precision: 0.7360 - val_recall: 0.7338 - val_auc: 0.8470 - val_top 2 accuracy: 0.9234 - val_top 3 accuracy: 1.0000 - val_top 5 accuracy: 1.0000\n",
      "Epoch 13/15\n",
      "652/652 [==============================] - 65s 100ms/step - loss: 0.0028 - accuracy: 0.9989 - precision: 0.9989 - recall: 0.9989 - auc: 0.9999 - top 2 accuracy: 1.0000 - top 3 accuracy: 1.0000 - top 5 accuracy: 1.0000 - val_loss: 3.9264 - val_accuracy: 0.6280 - val_precision: 0.6292 - val_recall: 0.6277 - val_auc: 0.7681 - val_top 2 accuracy: 0.8885 - val_top 3 accuracy: 1.0000 - val_top 5 accuracy: 1.0000\n",
      "Epoch 14/15\n",
      "652/652 [==============================] - 66s 101ms/step - loss: 4.0160e-04 - accuracy: 0.9998 - precision: 0.9998 - recall: 0.9998 - auc: 1.0000 - top 2 accuracy: 1.0000 - top 3 accuracy: 1.0000 - top 5 accuracy: 1.0000 - val_loss: 7.2514 - val_accuracy: 0.5068 - val_precision: 0.5072 - val_recall: 0.5062 - val_auc: 0.6549 - val_top 2 accuracy: 0.8232 - val_top 3 accuracy: 1.0000 - val_top 5 accuracy: 1.0000\n",
      "Epoch 15/15\n",
      "652/652 [==============================] - 71s 109ms/step - loss: 0.0016 - accuracy: 0.9995 - precision: 0.9995 - recall: 0.9995 - auc: 1.0000 - top 2 accuracy: 1.0000 - top 3 accuracy: 1.0000 - top 5 accuracy: 1.0000 - val_loss: 3.4370 - val_accuracy: 0.7126 - val_precision: 0.7131 - val_recall: 0.7117 - val_auc: 0.8190 - val_top 2 accuracy: 0.8869 - val_top 3 accuracy: 1.0000 - val_top 5 accuracy: 1.0000\n"
     ]
    }
   ],
   "source": [
    "history_dcnn_ACcgan = net_dcnn_112_ACcgan.fit(train_data,\n",
    "          epochs=15,\n",
    "          steps_per_epoch=step_per_epoch_train,\n",
    "          validation_data=validation_data,\n",
    "          validation_steps=step_per_epoch_val,\n",
    "          workers = 3,\n",
    "          callbacks=[model_checkpoint_callback, early_stopper])"
   ]
  },
  {
   "cell_type": "code",
   "execution_count": 15,
   "metadata": {},
   "outputs": [],
   "source": [
    "np.save(f'C:/Users/marco/Desktop/Local_Documents/models/AC-cGAN_classification/epochs_{epoch}/dcnn_history_{img_size}_{version}.npy',\n",
    "        history_dcnn_ACcgan.history)"
   ]
  },
  {
   "cell_type": "markdown",
   "metadata": {},
   "source": [
    "Visualization of the learning curves"
   ]
  },
  {
   "cell_type": "code",
   "execution_count": 16,
   "metadata": {},
   "outputs": [
    {
     "data": {
      "text/plain": [
       "<matplotlib.legend.Legend at 0x1aea99ecfd0>"
      ]
     },
     "execution_count": 16,
     "metadata": {},
     "output_type": "execute_result"
    },
    {
     "data": {
      "image/png": "[encoded data removed]",
      "text/plain": [
       "<Figure size 640x480 with 2 Axes>"
      ]
     },
     "metadata": {},
     "output_type": "display_data"
    }
   ],
   "source": [
    "# Loss\n",
    "plt.subplot(1, 2, 1)\n",
    "plt.plot(history_dcnn_ACcgan.history['loss'])\n",
    "plt.plot(history_dcnn_ACcgan.history['val_loss'])\n",
    "plt.xlabel('Epoch')\n",
    "plt.ylabel('Loss')\n",
    "plt.legend(['train', 'validation'])\n",
    "\n",
    "# Accuracy\n",
    "plt.subplot(1, 2, 2)\n",
    "plt.plot(history_dcnn_ACcgan.history['accuracy'])\n",
    "plt.plot(history_dcnn_ACcgan.history['val_accuracy'])\n",
    "plt.xlabel('Epoch')\n",
    "plt.ylabel('Accuracy')\n",
    "plt.legend(['train', 'validation'])"
   ]
  },
  {
   "cell_type": "markdown",
   "metadata": {},
   "source": [
    "# Load Model"
   ]
  },
  {
   "cell_type": "code",
   "execution_count": 18,
   "metadata": {},
   "outputs": [],
   "source": [
    "os.chdir(f'C:/Users/marco/Desktop/Local_Documents/models/AC-cGAN_classification/epochs_{epoch}')"
   ]
  },
  {
   "cell_type": "code",
   "execution_count": 22,
   "metadata": {},
   "outputs": [],
   "source": [
    "# Load model\n",
    "net_dcnn_112_ACcgan = keras.models.load_model(\"dcnn_model_112_v1_val_acc_best.hdf5\")"
   ]
  },
  {
   "cell_type": "code",
   "execution_count": 19,
   "metadata": {},
   "outputs": [],
   "source": [
    "# Load hystory and convert to dict\n",
    "history = np.load('dcnn_history_112_v1.npy', allow_pickle=True).item()"
   ]
  },
  {
   "cell_type": "markdown",
   "metadata": {},
   "source": [
    "# Model Evaluation"
   ]
  },
  {
   "cell_type": "code",
   "execution_count": 20,
   "metadata": {},
   "outputs": [],
   "source": [
    "# Set visualization size for figures \n",
    "plt.rcParams['figure.figsize'] = [5,5] # width, height"
   ]
  },
  {
   "cell_type": "code",
   "execution_count": 21,
   "metadata": {},
   "outputs": [],
   "source": [
    "CATEGORIES = \"COVID\", \"NORMAL\",\"PNEUMONIA\""
   ]
  },
  {
   "cell_type": "code",
   "execution_count": 22,
   "metadata": {},
   "outputs": [
    {
     "data": {
      "text/plain": [
       "dict_keys(['loss', 'accuracy', 'precision', 'recall', 'auc', 'top 2 accuracy', 'top 3 accuracy', 'top 5 accuracy', 'val_loss', 'val_accuracy', 'val_precision', 'val_recall', 'val_auc', 'val_top 2 accuracy', 'val_top 3 accuracy', 'val_top 5 accuracy'])"
      ]
     },
     "execution_count": 22,
     "metadata": {},
     "output_type": "execute_result"
    }
   ],
   "source": [
    "history.keys()"
   ]
  },
  {
   "cell_type": "code",
   "execution_count": 24,
   "metadata": {},
   "outputs": [],
   "source": [
    "%matplotlib inline\n",
    "\n",
    "def print_graph(item, index, history):\n",
    "    plt.figure()\n",
    "    train_values = history[item][0:index]\n",
    "    plt.plot(train_values)\n",
    "    test_values = history['val_' + item][0:index]\n",
    "    plt.plot(test_values)\n",
    "    plt.legend(['training','validation'])\n",
    "    plt.title('Training and validation '+ item)\n",
    "    plt.xlabel('epoch')\n",
    "    plt.show()\n",
    "    plot = '{}.png'.format(item)\n",
    "    plt.savefig(plot)"
   ]
  },
  {
   "cell_type": "code",
   "execution_count": 25,
   "metadata": {},
   "outputs": [],
   "source": [
    "def test_set_results(pred_value, n=1):    \n",
    "    y_test = test_data.labels\n",
    "    X_test, _ = test_data.next()\n",
    "    \n",
    "    corr_pred = confusion_matrix(y_test, pred_value)\n",
    "    fig=plt.figure(figsize=(10, 8))\n",
    "    ax = plt.axes()\n",
    "    \n",
    "    sns.heatmap(corr_pred,annot=True, fmt=\"d\",cmap=\"Purples\", xticklabels=CATEGORIES, yticklabels=CATEGORIES)\n",
    "    ax.set_title('Confusione Matrix')\n",
    "    plt.show()\n",
    "    \n",
    "    n_correct = int(corr_pred[0][0] + corr_pred[1][1] + corr_pred[2][2])\n",
    "    print('...'*15)\n",
    "\n",
    "    print('> Correct Predictions:', n_correct)\n",
    "    \n",
    "    n_wrongs = len(y_test) - n_correct\n",
    "    print('> Wrong Predictions:', n_wrongs)\n",
    "    print('...'*15)\n",
    "    \n",
    "    print(classification_report(test_data.labels, pred_value, target_names=CATEGORIES))"
   ]
  },
  {
   "cell_type": "code",
   "execution_count": 26,
   "metadata": {},
   "outputs": [],
   "source": [
    "def printResults(name, model):\n",
    "    predictions = model.predict(test_data, verbose=1)\n",
    "    preds = np.argmax(predictions, axis=1)\n",
    "    test_set_results(preds)"
   ]
  },
  {
   "cell_type": "code",
   "execution_count": 27,
   "metadata": {},
   "outputs": [],
   "source": [
    "def model_summary(model, history, name):\n",
    "    os.chdir('C:/Users/marco/Desktop/Local_Documents/plot/Oversampling_Augmentation')\n",
    "    val_acc = history['val_accuracy'] #validation accuracy history\n",
    "    index= val_acc.index(max(val_acc))\n",
    "    print('Best Epochs:', index)\n",
    "\n",
    "\n",
    "    test_loss, test_accuracy, test_precision, test_recall, auc, _, _, _ = model.evaluate(test_data, verbose=1)\n",
    "\n",
    "    train_accuracy = history['accuracy'][index]\n",
    "    train_loss = history['loss'][index]\n",
    "\n",
    "    print_graph('loss', index, history)\n",
    "    print_graph('accuracy', index, history)\n",
    "\n",
    "    print('---'*15) \n",
    "    print(name)\n",
    "    print('> Accuracy on train:',round(train_accuracy, 2), \n",
    "            '\\tLoss on train:', round(train_loss,2))\n",
    "    \n",
    "\n",
    "    print('> Accuracy on test:',round(test_accuracy, 2),\n",
    "            '\\tLoss on test:',round(test_loss,2))\n",
    "\n",
    "    print('---'*15)\n",
    "    print('> predicting test')\n",
    "    print('---'*15)\n",
    "\n",
    "    printResults(name, model)"
   ]
  },
  {
   "cell_type": "code",
   "execution_count": 28,
   "metadata": {},
   "outputs": [
    {
     "name": "stdout",
     "output_type": "stream",
     "text": [
      "Best Epochs: 11\n",
      "13/13 [==============================] - 1s 75ms/step - loss: 5.6207 - accuracy: 0.5264 - precision: 0.5266 - recall: 0.5239 - auc: 0.6732 - top 2 accuracy: 0.8741 - top 3 accuracy: 1.0000 - top 5 accuracy: 1.0000\n"
     ]
    },
    {
     "data": {
      "image/png": "[encoded data removed]",
      "text/plain": [
       "<Figure size 500x500 with 1 Axes>"
      ]
     },
     "metadata": {},
     "output_type": "display_data"
    },
    {
     "data": {
      "text/plain": [
       "<Figure size 500x500 with 0 Axes>"
      ]
     },
     "metadata": {},
     "output_type": "display_data"
    },
    {
     "data": {
      "image/png": "[encoded data removed]",
      "text/plain": [
       "<Figure size 500x500 with 1 Axes>"
      ]
     },
     "metadata": {},
     "output_type": "display_data"
    },
    {
     "name": "stdout",
     "output_type": "stream",
     "text": [
      "---------------------------------------------\n",
      "DCCN - Test AC-cGAN\n",
      "> Accuracy on train: 1.0 \tLoss on train: 0.0\n",
      "> Accuracy on test: 0.53 \tLoss on test: 5.62\n",
      "---------------------------------------------\n",
      "> predicting test\n",
      "---------------------------------------------\n",
      "13/13 [==============================] - 1s 32ms/step\n"
     ]
    },
    {
     "data": {
      "text/plain": [
       "<Figure size 500x500 with 0 Axes>"
      ]
     },
     "metadata": {},
     "output_type": "display_data"
    },
    {
     "data": {
      "image/png": "[encoded data removed]",
      "text/plain": [
       "<Figure size 1000x800 with 2 Axes>"
      ]
     },
     "metadata": {},
     "output_type": "display_data"
    },
    {
     "name": "stdout",
     "output_type": "stream",
     "text": [
      ".............................................\n",
      "> Correct Predictions: 209\n",
      "> Wrong Predictions: 188\n",
      ".............................................\n",
      "              precision    recall  f1-score   support\n",
      "\n",
      "       COVID       0.82      0.49      0.61       199\n",
      "      NORMAL       0.37      0.92      0.53        99\n",
      "   PNEUMONIA       0.58      0.21      0.31        99\n",
      "\n",
      "    accuracy                           0.53       397\n",
      "   macro avg       0.59      0.54      0.49       397\n",
      "weighted avg       0.65      0.53      0.52       397\n",
      "\n"
     ]
    }
   ],
   "source": [
    "model_summary(net_dcnn_112_ACcgan, history, 'DCCN - Test AC-cGAN')"
   ]
  }
 ],
 "metadata": {
  "kernelspec": {
   "display_name": "Python 3.8.16 ('tf')",
   "language": "python",
   "name": "python3"
  },
  "language_info": {
   "codemirror_mode": {
    "name": "ipython",
    "version": 3
   },
   "file_extension": ".py",
   "mimetype": "text/x-python",
   "name": "python",
   "nbconvert_exporter": "python",
   "pygments_lexer": "ipython3",
   "version": "3.8.16"
  },
  "orig_nbformat": 4,
  "vscode": {
   "interpreter": {
    "hash": "4a44bbf2a83640dfde2344ebe838e4635fa18e86f31ce321969bab99fe559bce"
   }
  }
 },
 "nbformat": 4,
 "nbformat_minor": 2
}
